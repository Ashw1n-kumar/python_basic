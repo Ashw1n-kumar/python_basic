{
 "cells": [
  {
   "cell_type": "code",
   "execution_count": null,
   "id": "e8941527",
   "metadata": {},
   "outputs": [],
   "source": [
    "a=\"ashwin kumar\"\n",
    "print(a.title())\n"
   ]
  },
  {
   "cell_type": "code",
   "execution_count": null,
   "id": "3b8c36b2",
   "metadata": {},
   "outputs": [],
   "source": [
    "a=\"ashwin kumar\"\n",
    "b=(a.replace(\"ashwin kumar\",\"rahul krishanan\"))\n",
    "print(b)"
   ]
  },
  {
   "cell_type": "code",
   "execution_count": null,
   "id": "55524857",
   "metadata": {},
   "outputs": [],
   "source": [
    "number=\"9876543211\"\n",
    "hide=number[:2]+\"********\"\n",
    "print(hide)"
   ]
  },
  {
   "cell_type": "code",
   "execution_count": null,
   "id": "f43e0696",
   "metadata": {},
   "outputs": [],
   "source": [
    "name=\"ashwinkumar\"\n",
    "print(name[:6].upper()+name[6:12])"
   ]
  },
  {
   "cell_type": "code",
   "execution_count": null,
   "id": "19fdb56c",
   "metadata": {},
   "outputs": [],
   "source": [
    "a=\"your boooking id is: 225003000 . and your name is ashwin\"\n",
    "#using split function we want only rool no:\n",
    "b=a.split(\":\")[1].split(\".\")[0].strip()\n",
    "print(b)"
   ]
  },
  {
   "cell_type": "code",
   "execution_count": 38,
   "id": "9fe1103d",
   "metadata": {},
   "outputs": [
    {
     "name": "stdout",
     "output_type": "stream",
     "text": [
      "ashwin 21 9876543211\n"
     ]
    }
   ],
   "source": [
    "details=\"name=ashwin,age=21,number=9876543211\"\n",
    "#split each and every details\n",
    "name=details.split(\"name=\")[1].split(\",\")[0]\n",
    "age=details.split(\"age=\")[1].split(\",\")[0]\n",
    "number=details.split(\"number=\")[1].split(\",\")[0]\n",
    "print(name,age,number)"
   ]
  },
  {
   "cell_type": "code",
   "execution_count": 47,
   "id": "92600aa9",
   "metadata": {},
   "outputs": [
    {
     "name": "stdout",
     "output_type": "stream",
     "text": [
      "24\n"
     ]
    }
   ],
   "source": [
    "#find is used to find the position\n",
    "a=\"the first rule of fight club is you do not tAlk about fight club\"\n",
    "print(a.find(\"club\"))"
   ]
  },
  {
   "cell_type": "code",
   "execution_count": 53,
   "id": "78dfb088",
   "metadata": {},
   "outputs": [
    {
     "name": "stdout",
     "output_type": "stream",
     "text": [
      "AK\n"
     ]
    }
   ],
   "source": [
    "#taking initial form first letter\n",
    "name=\"ashwin kumar\"\n",
    "initial=\"\".join([word[0].upper() for word in name.split()])\n",
    "print(initial)"
   ]
  },
  {
   "cell_type": "code",
   "execution_count": 57,
   "id": "75691fb9",
   "metadata": {},
   "outputs": [
    {
     "name": "stdout",
     "output_type": "stream",
     "text": [
      "12\n",
      "correct\n"
     ]
    }
   ],
   "source": [
    "#find the length of word\n",
    "a=\"i am ironman\"\n",
    "b=len(a)\n",
    "print(b)\n",
    "if b==12:\n",
    "    print(\"correct\")\n",
    "else:\n",
    "    print(\"not correct\")"
   ]
  },
  {
   "cell_type": "code",
   "execution_count": null,
   "id": "4bc2148c",
   "metadata": {},
   "outputs": [],
   "source": [
    "\\"
   ]
  }
 ],
 "metadata": {
  "kernelspec": {
   "display_name": "Python 3",
   "language": "python",
   "name": "python3"
  },
  "language_info": {
   "codemirror_mode": {
    "name": "ipython",
    "version": 3
   },
   "file_extension": ".py",
   "mimetype": "text/x-python",
   "name": "python",
   "nbconvert_exporter": "python",
   "pygments_lexer": "ipython3",
   "version": "3.12.4"
  }
 },
 "nbformat": 4,
 "nbformat_minor": 5
}
